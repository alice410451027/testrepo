{
 "cells": [
  {
   "cell_type": "markdown",
   "id": "9bc1c17e",
   "metadata": {},
   "source": [
    "In this notebook, Data Science Tools and Ecosystem are summarized."
   ]
  },
  {
   "cell_type": "markdown",
   "id": "0197fe78",
   "metadata": {},
   "source": [
    "List popular languages for Data Science. \n",
    "1. R\n",
    "2. SQL\n",
    "3. Julia\n",
    "4. Python\n",
    "5. Scala"
   ]
  },
  {
   "cell_type": "markdown",
   "id": "b06f6fa5",
   "metadata": {},
   "source": [
    "Some of the popular languages that Data Scientists use are:\n",
    " 1. Peter Norvig\n",
    " 2. Dean Abbott\n",
    " 3. Leslie Kaelbling\n",
    " 4. Jurgen Schmidhuber\n",
    " 5. Corinna Cortes"
   ]
  },
  {
   "cell_type": "markdown",
   "id": "4b1a583a",
   "metadata": {},
   "source": [
    "Some of the commonly used libraries used by Data Scientists include:\n",
    "\n",
    " 1. TensorFlow\n",
    " 2. NumPy\n",
    " 3. SciPy \n",
    " 4. Pandas\n",
    " 5. Matplotlib "
   ]
  },
  {
   "cell_type": "markdown",
   "id": "c0bbaa97",
   "metadata": {},
   "source": [
    "Data Science Tools\n",
    "\n",
    "|SAS|Apache Spark|BigML|\n",
    "|---|---|---|"
   ]
  },
  {
   "cell_type": "markdown",
   "id": "c04ca402",
   "metadata": {},
   "source": [
    "Below are a few examples of evaluating arithmetic expressions in Python\n",
    "\n",
    " 1. Parse the input expression.\n",
    " 2. Change the expression's components into Python objects (numbers, operators, functions, and so on).\n",
    " 3. Combine everything into an expression.\n",
    " 4. Confirm that the expression is valid in Python.\n",
    " 5. Evaluate the final expression and return the result."
   ]
  },
  {
   "cell_type": "code",
   "execution_count": 46,
   "id": "7bbe0b13",
   "metadata": {},
   "outputs": [
    {
     "data": {
      "text/plain": [
       "17"
      ]
     },
     "execution_count": 46,
     "metadata": {},
     "output_type": "execute_result"
    }
   ],
   "source": [
    "(3*4)+5\n",
    "This a simple arithmetic expression to mutiply then add integers."
   ]
  },
  {
   "cell_type": "code",
   "execution_count": 36,
   "id": "d8bb9a4d",
   "metadata": {},
   "outputs": [
    {
     "data": {
      "text/plain": [
       "3.3333333333333335"
      ]
     },
     "execution_count": 36,
     "metadata": {},
     "output_type": "execute_result"
    }
   ],
   "source": [
    "200/60\n",
    "This will convert 200 minutes to hours by diving by 60"
   ]
  },
  {
   "cell_type": "markdown",
   "id": "c41ff33d",
   "metadata": {},
   "source": [
    "Author\n",
    "## Lakshmi Holla\n",
    "## Niveditha Pandith"
   ]
  }
 ],
 "metadata": {
  "kernelspec": {
   "display_name": "Python 3 (ipykernel)",
   "language": "python",
   "name": "python3"
  },
  "language_info": {
   "codemirror_mode": {
    "name": "ipython",
    "version": 3
   },
   "file_extension": ".py",
   "mimetype": "text/x-python",
   "name": "python",
   "nbconvert_exporter": "python",
   "pygments_lexer": "ipython3",
   "version": "3.10.11"
  }
 },
 "nbformat": 4,
 "nbformat_minor": 5
}
