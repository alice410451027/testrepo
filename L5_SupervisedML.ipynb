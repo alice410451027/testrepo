{
  "nbformat": 4,
  "nbformat_minor": 0,
  "metadata": {
    "colab": {
      "provenance": [],
      "authorship_tag": "ABX9TyPmewHPAXeg6XR3+RimVzGB",
      "include_colab_link": true
    },
    "kernelspec": {
      "name": "python3",
      "display_name": "Python 3"
    },
    "language_info": {
      "name": "python"
    }
  },
  "cells": [
    {
      "cell_type": "markdown",
      "metadata": {
        "id": "view-in-github",
        "colab_type": "text"
      },
      "source": [
        "<a href=\"https://colab.research.google.com/github/alice410451027/testrepo/blob/main/L5_SupervisedML.ipynb\" target=\"_parent\"><img src=\"https://colab.research.google.com/assets/colab-badge.svg\" alt=\"Open In Colab\"/></a>"
      ]
    },
    {
      "cell_type": "code",
      "execution_count": null,
      "metadata": {
        "colab": {
          "base_uri": "https://localhost:8080/"
        },
        "id": "YuCbZzJgMlNh",
        "outputId": "61c58cc7-d84a-484d-c1cf-03551338c4a4"
      },
      "outputs": [
        {
          "output_type": "stream",
          "name": "stdout",
          "text": [
            "<class 'pandas.core.frame.DataFrame'>\n",
            "RangeIndex: 150 entries, 0 to 149\n",
            "Data columns (total 5 columns):\n",
            " #   Column             Non-Null Count  Dtype  \n",
            "---  ------             --------------  -----  \n",
            " 0   sepal length (cm)  150 non-null    float64\n",
            " 1   sepal width (cm)   150 non-null    float64\n",
            " 2   petal length (cm)  150 non-null    float64\n",
            " 3   petal width (cm)   150 non-null    float64\n",
            " 4   Species            150 non-null    int64  \n",
            "dtypes: float64(4), int64(1)\n",
            "memory usage: 6.0 KB\n",
            "None\n",
            "TrainingSet:\n",
            "Species\n",
            "1    44\n",
            "2    39\n",
            "0    37\n",
            "Name: count, dtype: int64\n",
            "\n",
            "TestingSet:\n",
            "Species\n",
            "0    13\n",
            "2    11\n",
            "1     6\n",
            "Name: count, dtype: int64\n"
          ]
        }
      ],
      "source": [
        "from sklearn.datasets import load_iris\n",
        "import pandas as pd\n",
        "#Load iris dataset\n",
        "iris=load_iris()\n",
        "\n",
        "\n",
        "#Convert to Data Frame\n",
        "iris_df = pd.DataFrame(data=iris.data,columns=iris.feature_names)\n",
        "iris_df['Species']=iris.target\n",
        "\n",
        "#Display structure\n",
        "print(iris_df.info())\n",
        "from sklearn.model_selection import train_test_split\n",
        "\n",
        "#Splitting into training and testing sets\n",
        "iris_train,iris_test = train_test_split(iris_df,test_size=0.2,random_state=123) #使用 train_test_split 將數據集分割為訓練集和測試集，其中 20% 的數據用於測試，80% 用於訓練。random_state=123 確保每次運行時分割結果相同，以便重現。\n",
        "\n",
        "#Display class distribution\n",
        "print(\"TrainingSet:\")\n",
        "print(iris_train['Species'].value_counts())\n",
        "print(\"\\nTestingSet:\")\n",
        "print(iris_test['Species'].value_counts())\n",
        "\n",
        "# Define features and target\n",
        "X_train=iris_train.drop(columns=['Species'])\n",
        "X_test=iris_test.drop(columns=['Species'])\n",
        "y_train=iris_train['Species']\n",
        "y_test=iris_test['Species']"
      ]
    },
    {
      "cell_type": "markdown",
      "source": [
        "#Random Forest"
      ],
      "metadata": {
        "id": "s2aJfABuRVvq"
      }
    },
    {
      "cell_type": "markdown",
      "source": [
        "##Step1：\n",
        "##Fit the model with training data and check performances (accuracy rate,confusion matrix, classification report)\n"
      ],
      "metadata": {
        "id": "Zq8kRU5eW8qO"
      }
    },
    {
      "cell_type": "code",
      "source": [
        "from sklearn.ensemble import RandomForestClassifier\n",
        "from sklearn.metrics import confusion_matrix,accuracy_score\n",
        "from sklearn.metrics import classification_report\n",
        "#Create Random Forest classifier\n",
        "rf_classifier = RandomForestClassifier(random_state=123,n_estimators=100)\n",
        "\n",
        "#Fit the model\n",
        "rf_classifier.fit(X_train,y_train)\n",
        "\n",
        "#Use the model to predict the training data\n",
        "y_pred_rf_train = rf_classifier.predict(X_train)\n",
        "\n",
        "#Calculate accuracy for the training data\n",
        "accuracy_rf_train = accuracy_score(y_train,y_pred_rf_train)\n",
        "print(f'Accuracy:{accuracy_rf_train:.4f}')\n",
        "\n",
        "#Compute the confusion matrix for the training data\n",
        "cm_rf_train = confusion_matrix(y_train,y_pred_rf_train)\n",
        "\n",
        "#Print confusion matrix for the training data\n",
        "print(\"ConfusionMatrix(onTrainingData):\")\n",
        "print(cm_rf_train)\n",
        "\n",
        "#Generate classification report for the training data\n",
        "report_rf_train = classification_report(y_train,y_pred_rf_train)\n",
        "print(\"\\nClassificationReport:\")\n",
        "print(report_rf_train)"
      ],
      "metadata": {
        "colab": {
          "base_uri": "https://localhost:8080/"
        },
        "id": "FW0ugs5zRX-T",
        "outputId": "ed03d23f-cdf9-4927-da46-52f20e454dac"
      },
      "execution_count": null,
      "outputs": [
        {
          "output_type": "stream",
          "name": "stdout",
          "text": [
            "Accuracy:1.0000\n",
            "ConfusionMatrix(onTrainingData):\n",
            "[[37  0  0]\n",
            " [ 0 44  0]\n",
            " [ 0  0 39]]\n",
            "\n",
            "ClassificationReport:\n",
            "              precision    recall  f1-score   support\n",
            "\n",
            "           0       1.00      1.00      1.00        37\n",
            "           1       1.00      1.00      1.00        44\n",
            "           2       1.00      1.00      1.00        39\n",
            "\n",
            "    accuracy                           1.00       120\n",
            "   macro avg       1.00      1.00      1.00       120\n",
            "weighted avg       1.00      1.00      1.00       120\n",
            "\n"
          ]
        }
      ]
    },
    {
      "cell_type": "markdown",
      "source": [
        "##Step2：\n",
        "##Predict with testing data and check performances"
      ],
      "metadata": {
        "id": "mrIS19AOXIy1"
      }
    },
    {
      "cell_type": "code",
      "source": [
        "#Predict on the test set\n",
        "y_pred_rf=rf_classifier.predict(X_test)\n",
        "\n",
        "from sklearn.metrics import classification_report\n",
        "import matplotlib.pyplot as plt\n",
        "import seaborn as sns\n",
        "\n",
        "#Calculate accuracy\n",
        "accuracy_rf = accuracy_score(y_test,y_pred_rf)\n",
        "print(f'Accuracy:{accuracy_rf:.4f}')\n",
        "\n",
        "#Calculate confusion matrix\n",
        "cm_rf = confusion_matrix(y_test,y_pred_rf)\n",
        "\n",
        "#Plot confusion matrix\n",
        "plt.figure(figsize=(8,6))\n",
        "sns.heatmap(cm_rf,annot=True,fmt='d',cmap='Blues',xticklabels=iris.target_names,\n",
        "            yticklabels=iris.target_names)\n",
        "plt.title('Confusion Matrix – Random Forest')\n",
        "plt.xlabel('PredictedLabels')\n",
        "plt.ylabel('TrueLabels')\n",
        "plt.show()\n",
        "\n",
        "#Generate classification report\n",
        "report = classification_report(y_test,y_pred_rf)\n",
        "print(\"\\nClassificationReport:\")\n",
        "print(report)"
      ],
      "metadata": {
        "colab": {
          "base_uri": "https://localhost:8080/",
          "height": 785
        },
        "id": "tGWiU06STH7b",
        "outputId": "ddf817aa-6b97-4c41-86c0-7115c65e5b7c"
      },
      "execution_count": null,
      "outputs": [
        {
          "output_type": "stream",
          "name": "stdout",
          "text": [
            "Accuracy:0.9333\n"
          ]
        },
        {
          "output_type": "display_data",
          "data": {
            "text/plain": [
              "<Figure size 800x600 with 2 Axes>"
            ],
            "image/png": "[encoded data removed]"
          },
          "metadata": {}
        },
        {
          "output_type": "stream",
          "name": "stdout",
          "text": [
            "\n",
            "ClassificationReport:\n",
            "              precision    recall  f1-score   support\n",
            "\n",
            "           0       1.00      1.00      1.00        13\n",
            "           1       0.75      1.00      0.86         6\n",
            "           2       1.00      0.82      0.90        11\n",
            "\n",
            "    accuracy                           0.93        30\n",
            "   macro avg       0.92      0.94      0.92        30\n",
            "weighted avg       0.95      0.93      0.93        30\n",
            "\n"
          ]
        }
      ]
    },
    {
      "cell_type": "code",
      "source": [
        "cm_rf"
      ],
      "metadata": {
        "colab": {
          "base_uri": "https://localhost:8080/"
        },
        "id": "V_TAHR7RVmBo",
        "outputId": "4613dca6-563b-42ea-91b6-0c461b3f069f"
      },
      "execution_count": null,
      "outputs": [
        {
          "output_type": "execute_result",
          "data": {
            "text/plain": [
              "array([[13,  0,  0],\n",
              "       [ 0,  6,  0],\n",
              "       [ 0,  2,  9]])"
            ]
          },
          "metadata": {},
          "execution_count": 5
        }
      ]
    },
    {
      "cell_type": "code",
      "source": [
        "import matplotlib.pyplot as plt\n",
        "#feature importance\n",
        "print(\"FeatureImportance:\\n\")\n",
        "print(X_train.columns)\n",
        "imp = rf_classifier.feature_importances_\n",
        "print(imp)\n",
        "importances = pd.Series(rf_classifier.feature_importances_,index=X_train.columns)\n",
        "importances.sort_values(ascending=True,inplace=True)\n",
        "importances.plot.barh(color='green')\n",
        "plt.xlabel(\"Importance\")\n",
        "plt.ylabel(\"Feature\")\n",
        "plt.title(\"Global Feature Importance\")"
      ],
      "metadata": {
        "colab": {
          "base_uri": "https://localhost:8080/",
          "height": 591
        },
        "id": "RUiNJOHuTsKF",
        "outputId": "892c3d6d-ad6a-4c07-86c7-62e58c541442"
      },
      "execution_count": null,
      "outputs": [
        {
          "output_type": "stream",
          "name": "stdout",
          "text": [
            "FeatureImportance:\n",
            "\n",
            "Index(['sepal length (cm)', 'sepal width (cm)', 'petal length (cm)',\n",
            "       'petal width (cm)'],\n",
            "      dtype='object')\n",
            "[0.09289778 0.02081047 0.46263682 0.42365493]\n"
          ]
        },
        {
          "output_type": "execute_result",
          "data": {
            "text/plain": [
              "Text(0.5, 1.0, 'Global Feature Importance')"
            ]
          },
          "metadata": {},
          "execution_count": 6
        },
        {
          "output_type": "display_data",
          "data": {
            "text/plain": [
              "<Figure size 640x480 with 1 Axes>"
            ],
            "image/png": "[encoded data removed]"
          },
          "metadata": {}
        }
      ]
    },
    {
      "cell_type": "markdown",
      "source": [
        "#SVM"
      ],
      "metadata": {
        "id": "K4iHUlvMUKzV"
      }
    },
    {
      "cell_type": "markdown",
      "source": [
        "##Step1:Fit the model with training data and check performances"
      ],
      "metadata": {
        "id": "O3iXubWdU9MY"
      }
    },
    {
      "cell_type": "code",
      "source": [
        "from sklearn.svm import SVC\n",
        "#Create SVM classifier with linear kernel\n",
        "svm_classifier = SVC(kernel='linear',random_state=123)\n",
        "\n",
        "#Fit the model\n",
        "svm_classifier.fit(X_train,y_train)"
      ],
      "metadata": {
        "colab": {
          "base_uri": "https://localhost:8080/",
          "height": 80
        },
        "id": "nUNjH3nmUMVb",
        "outputId": "a708df3f-e6b8-41f0-c5da-4418ce64bc92"
      },
      "execution_count": null,
      "outputs": [
        {
          "output_type": "execute_result",
          "data": {
            "text/plain": [
              "SVC(kernel='linear', random_state=123)"
            ],
            "text/html": [
              "<style>#sk-container-id-1 {\n",
              "  /* Definition of color scheme common for light and dark mode */\n",
              "  --sklearn-color-text: black;\n",
              "  --sklearn-color-line: gray;\n",
              "  /* Definition of color scheme for unfitted estimators */\n",
              "  --sklearn-color-unfitted-level-0: #fff5e6;\n",
              "  --sklearn-color-unfitted-level-1: #f6e4d2;\n",
              "  --sklearn-color-unfitted-level-2: #ffe0b3;\n",
              "  --sklearn-color-unfitted-level-3: chocolate;\n",
              "  /* Definition of color scheme for fitted estimators */\n",
              "  --sklearn-color-fitted-level-0: #f0f8ff;\n",
              "  --sklearn-color-fitted-level-1: #d4ebff;\n",
              "  --sklearn-color-fitted-level-2: #b3dbfd;\n",
              "  --sklearn-color-fitted-level-3: cornflowerblue;\n",
              "\n",
              "  /* Specific color for light theme */\n",
              "  --sklearn-color-text-on-default-background: var(--sg-text-color, var(--theme-code-foreground, var(--jp-content-font-color1, black)));\n",
              "  --sklearn-color-background: var(--sg-background-color, var(--theme-background, var(--jp-layout-color0, white)));\n",
              "  --sklearn-color-border-box: var(--sg-text-color, var(--theme-code-foreground, var(--jp-content-font-color1, black)));\n",
              "  --sklearn-color-icon: #696969;\n",
              "\n",
              "  @media (prefers-color-scheme: dark) {\n",
              "    /* Redefinition of color scheme for dark theme */\n",
              "    --sklearn-color-text-on-default-background: var(--sg-text-color, var(--theme-code-foreground, var(--jp-content-font-color1, white)));\n",
              "    --sklearn-color-background: var(--sg-background-color, var(--theme-background, var(--jp-layout-color0, #111)));\n",
              "    --sklearn-color-border-box: var(--sg-text-color, var(--theme-code-foreground, var(--jp-content-font-color1, white)));\n",
              "    --sklearn-color-icon: #878787;\n",
              "  }\n",
              "}\n",
              "\n",
              "#sk-container-id-1 {\n",
              "  color: var(--sklearn-color-text);\n",
              "}\n",
              "\n",
              "#sk-container-id-1 pre {\n",
              "  padding: 0;\n",
              "}\n",
              "\n",
              "#sk-container-id-1 input.sk-hidden--visually {\n",
              "  border: 0;\n",
              "  clip: rect(1px 1px 1px 1px);\n",
              "  clip: rect(1px, 1px, 1px, 1px);\n",
              "  height: 1px;\n",
              "  margin: -1px;\n",
              "  overflow: hidden;\n",
              "  padding: 0;\n",
              "  position: absolute;\n",
              "  width: 1px;\n",
              "}\n",
              "\n",
              "#sk-container-id-1 div.sk-dashed-wrapped {\n",
              "  border: 1px dashed var(--sklearn-color-line);\n",
              "  margin: 0 0.4em 0.5em 0.4em;\n",
              "  box-sizing: border-box;\n",
              "  padding-bottom: 0.4em;\n",
              "  background-color: var(--sklearn-color-background);\n",
              "}\n",
              "\n",
              "#sk-container-id-1 div.sk-container {\n",
              "  /* jupyter's `normalize.less` sets `[hidden] { display: none; }`\n",
              "     but bootstrap.min.css set `[hidden] { display: none !important; }`\n",
              "     so we also need the `!important` here to be able to override the\n",
              "     default hidden behavior on the sphinx rendered scikit-learn.org.\n",
              "     See: https://github.com/scikit-learn/scikit-learn/issues/21755 */\n",
              "  display: inline-block !important;\n",
              "  position: relative;\n",
              "}\n",
              "\n",
              "#sk-container-id-1 div.sk-text-repr-fallback {\n",
              "  display: none;\n",
              "}\n",
              "\n",
              "div.sk-parallel-item,\n",
              "div.sk-serial,\n",
              "div.sk-item {\n",
              "  /* draw centered vertical line to link estimators */\n",
              "  background-image: linear-gradient(var(--sklearn-color-text-on-default-background), var(--sklearn-color-text-on-default-background));\n",
              "  background-size: 2px 100%;\n",
              "  background-repeat: no-repeat;\n",
              "  background-position: center center;\n",
              "}\n",
              "\n",
              "/* Parallel-specific style estimator block */\n",
              "\n",
              "#sk-container-id-1 div.sk-parallel-item::after {\n",
              "  content: \"\";\n",
              "  width: 100%;\n",
              "  border-bottom: 2px solid var(--sklearn-color-text-on-default-background);\n",
              "  flex-grow: 1;\n",
              "}\n",
              "\n",
              "#sk-container-id-1 div.sk-parallel {\n",
              "  display: flex;\n",
              "  align-items: stretch;\n",
              "  justify-content: center;\n",
              "  background-color: var(--sklearn-color-background);\n",
              "  position: relative;\n",
              "}\n",
              "\n",
              "#sk-container-id-1 div.sk-parallel-item {\n",
              "  display: flex;\n",
              "  flex-direction: column;\n",
              "}\n",
              "\n",
              "#sk-container-id-1 div.sk-parallel-item:first-child::after {\n",
              "  align-self: flex-end;\n",
              "  width: 50%;\n",
              "}\n",
              "\n",
              "#sk-container-id-1 div.sk-parallel-item:last-child::after {\n",
              "  align-self: flex-start;\n",
              "  width: 50%;\n",
              "}\n",
              "\n",
              "#sk-container-id-1 div.sk-parallel-item:only-child::after {\n",
              "  width: 0;\n",
              "}\n",
              "\n",
              "/* Serial-specific style estimator block */\n",
              "\n",
              "#sk-container-id-1 div.sk-serial {\n",
              "  display: flex;\n",
              "  flex-direction: column;\n",
              "  align-items: center;\n",
              "  background-color: var(--sklearn-color-background);\n",
              "  padding-right: 1em;\n",
              "  padding-left: 1em;\n",
              "}\n",
              "\n",
              "\n",
              "/* Toggleable style: style used for estimator/Pipeline/ColumnTransformer box that is\n",
              "clickable and can be expanded/collapsed.\n",
              "- Pipeline and ColumnTransformer use this feature and define the default style\n",
              "- Estimators will overwrite some part of the style using the `sk-estimator` class\n",
              "*/\n",
              "\n",
              "/* Pipeline and ColumnTransformer style (default) */\n",
              "\n",
              "#sk-container-id-1 div.sk-toggleable {\n",
              "  /* Default theme specific background. It is overwritten whether we have a\n",
              "  specific estimator or a Pipeline/ColumnTransformer */\n",
              "  background-color: var(--sklearn-color-background);\n",
              "}\n",
              "\n",
              "/* Toggleable label */\n",
              "#sk-container-id-1 label.sk-toggleable__label {\n",
              "  cursor: pointer;\n",
              "  display: block;\n",
              "  width: 100%;\n",
              "  margin-bottom: 0;\n",
              "  padding: 0.5em;\n",
              "  box-sizing: border-box;\n",
              "  text-align: center;\n",
              "}\n",
              "\n",
              "#sk-container-id-1 label.sk-toggleable__label-arrow:before {\n",
              "  /* Arrow on the left of the label */\n",
              "  content: \"▸\";\n",
              "  float: left;\n",
              "  margin-right: 0.25em;\n",
              "  color: var(--sklearn-color-icon);\n",
              "}\n",
              "\n",
              "#sk-container-id-1 label.sk-toggleable__label-arrow:hover:before {\n",
              "  color: var(--sklearn-color-text);\n",
              "}\n",
              "\n",
              "/* Toggleable content - dropdown */\n",
              "\n",
              "#sk-container-id-1 div.sk-toggleable__content {\n",
              "  max-height: 0;\n",
              "  max-width: 0;\n",
              "  overflow: hidden;\n",
              "  text-align: left;\n",
              "  /* unfitted */\n",
              "  background-color: var(--sklearn-color-unfitted-level-0);\n",
              "}\n",
              "\n",
              "#sk-container-id-1 div.sk-toggleable__content.fitted {\n",
              "  /* fitted */\n",
              "  background-color: var(--sklearn-color-fitted-level-0);\n",
              "}\n",
              "\n",
              "#sk-container-id-1 div.sk-toggleable__content pre {\n",
              "  margin: 0.2em;\n",
              "  border-radius: 0.25em;\n",
              "  color: var(--sklearn-color-text);\n",
              "  /* unfitted */\n",
              "  background-color: var(--sklearn-color-unfitted-level-0);\n",
              "}\n",
              "\n",
              "#sk-container-id-1 div.sk-toggleable__content.fitted pre {\n",
              "  /* unfitted */\n",
              "  background-color: var(--sklearn-color-fitted-level-0);\n",
              "}\n",
              "\n",
              "#sk-container-id-1 input.sk-toggleable__control:checked~div.sk-toggleable__content {\n",
              "  /* Expand drop-down */\n",
              "  max-height: 200px;\n",
              "  max-width: 100%;\n",
              "  overflow: auto;\n",
              "}\n",
              "\n",
              "#sk-container-id-1 input.sk-toggleable__control:checked~label.sk-toggleable__label-arrow:before {\n",
              "  content: \"▾\";\n",
              "}\n",
              "\n",
              "/* Pipeline/ColumnTransformer-specific style */\n",
              "\n",
              "#sk-container-id-1 div.sk-label input.sk-toggleable__control:checked~label.sk-toggleable__label {\n",
              "  color: var(--sklearn-color-text);\n",
              "  background-color: var(--sklearn-color-unfitted-level-2);\n",
              "}\n",
              "\n",
              "#sk-container-id-1 div.sk-label.fitted input.sk-toggleable__control:checked~label.sk-toggleable__label {\n",
              "  background-color: var(--sklearn-color-fitted-level-2);\n",
              "}\n",
              "\n",
              "/* Estimator-specific style */\n",
              "\n",
              "/* Colorize estimator box */\n",
              "#sk-container-id-1 div.sk-estimator input.sk-toggleable__control:checked~label.sk-toggleable__label {\n",
              "  /* unfitted */\n",
              "  background-color: var(--sklearn-color-unfitted-level-2);\n",
              "}\n",
              "\n",
              "#sk-container-id-1 div.sk-estimator.fitted input.sk-toggleable__control:checked~label.sk-toggleable__label {\n",
              "  /* fitted */\n",
              "  background-color: var(--sklearn-color-fitted-level-2);\n",
              "}\n",
              "\n",
              "#sk-container-id-1 div.sk-label label.sk-toggleable__label,\n",
              "#sk-container-id-1 div.sk-label label {\n",
              "  /* The background is the default theme color */\n",
              "  color: var(--sklearn-color-text-on-default-background);\n",
              "}\n",
              "\n",
              "/* On hover, darken the color of the background */\n",
              "#sk-container-id-1 div.sk-label:hover label.sk-toggleable__label {\n",
              "  color: var(--sklearn-color-text);\n",
              "  background-color: var(--sklearn-color-unfitted-level-2);\n",
              "}\n",
              "\n",
              "/* Label box, darken color on hover, fitted */\n",
              "#sk-container-id-1 div.sk-label.fitted:hover label.sk-toggleable__label.fitted {\n",
              "  color: var(--sklearn-color-text);\n",
              "  background-color: var(--sklearn-color-fitted-level-2);\n",
              "}\n",
              "\n",
              "/* Estimator label */\n",
              "\n",
              "#sk-container-id-1 div.sk-label label {\n",
              "  font-family: monospace;\n",
              "  font-weight: bold;\n",
              "  display: inline-block;\n",
              "  line-height: 1.2em;\n",
              "}\n",
              "\n",
              "#sk-container-id-1 div.sk-label-container {\n",
              "  text-align: center;\n",
              "}\n",
              "\n",
              "/* Estimator-specific */\n",
              "#sk-container-id-1 div.sk-estimator {\n",
              "  font-family: monospace;\n",
              "  border: 1px dotted var(--sklearn-color-border-box);\n",
              "  border-radius: 0.25em;\n",
              "  box-sizing: border-box;\n",
              "  margin-bottom: 0.5em;\n",
              "  /* unfitted */\n",
              "  background-color: var(--sklearn-color-unfitted-level-0);\n",
              "}\n",
              "\n",
              "#sk-container-id-1 div.sk-estimator.fitted {\n",
              "  /* fitted */\n",
              "  background-color: var(--sklearn-color-fitted-level-0);\n",
              "}\n",
              "\n",
              "/* on hover */\n",
              "#sk-container-id-1 div.sk-estimator:hover {\n",
              "  /* unfitted */\n",
              "  background-color: var(--sklearn-color-unfitted-level-2);\n",
              "}\n",
              "\n",
              "#sk-container-id-1 div.sk-estimator.fitted:hover {\n",
              "  /* fitted */\n",
              "  background-color: var(--sklearn-color-fitted-level-2);\n",
              "}\n",
              "\n",
              "/* Specification for estimator info (e.g. \"i\" and \"?\") */\n",
              "\n",
              "/* Common style for \"i\" and \"?\" */\n",
              "\n",
              ".sk-estimator-doc-link,\n",
              "a:link.sk-estimator-doc-link,\n",
              "a:visited.sk-estimator-doc-link {\n",
              "  float: right;\n",
              "  font-size: smaller;\n",
              "  line-height: 1em;\n",
              "  font-family: monospace;\n",
              "  background-color: var(--sklearn-color-background);\n",
              "  border-radius: 1em;\n",
              "  height: 1em;\n",
              "  width: 1em;\n",
              "  text-decoration: none !important;\n",
              "  margin-left: 1ex;\n",
              "  /* unfitted */\n",
              "  border: var(--sklearn-color-unfitted-level-1) 1pt solid;\n",
              "  color: var(--sklearn-color-unfitted-level-1);\n",
              "}\n",
              "\n",
              ".sk-estimator-doc-link.fitted,\n",
              "a:link.sk-estimator-doc-link.fitted,\n",
              "a:visited.sk-estimator-doc-link.fitted {\n",
              "  /* fitted */\n",
              "  border: var(--sklearn-color-fitted-level-1) 1pt solid;\n",
              "  color: var(--sklearn-color-fitted-level-1);\n",
              "}\n",
              "\n",
              "/* On hover */\n",
              "div.sk-estimator:hover .sk-estimator-doc-link:hover,\n",
              ".sk-estimator-doc-link:hover,\n",
              "div.sk-label-container:hover .sk-estimator-doc-link:hover,\n",
              ".sk-estimator-doc-link:hover {\n",
              "  /* unfitted */\n",
              "  background-color: var(--sklearn-color-unfitted-level-3);\n",
              "  color: var(--sklearn-color-background);\n",
              "  text-decoration: none;\n",
              "}\n",
              "\n",
              "div.sk-estimator.fitted:hover .sk-estimator-doc-link.fitted:hover,\n",
              ".sk-estimator-doc-link.fitted:hover,\n",
              "div.sk-label-container:hover .sk-estimator-doc-link.fitted:hover,\n",
              ".sk-estimator-doc-link.fitted:hover {\n",
              "  /* fitted */\n",
              "  background-color: var(--sklearn-color-fitted-level-3);\n",
              "  color: var(--sklearn-color-background);\n",
              "  text-decoration: none;\n",
              "}\n",
              "\n",
              "/* Span, style for the box shown on hovering the info icon */\n",
              ".sk-estimator-doc-link span {\n",
              "  display: none;\n",
              "  z-index: 9999;\n",
              "  position: relative;\n",
              "  font-weight: normal;\n",
              "  right: .2ex;\n",
              "  padding: .5ex;\n",
              "  margin: .5ex;\n",
              "  width: min-content;\n",
              "  min-width: 20ex;\n",
              "  max-width: 50ex;\n",
              "  color: var(--sklearn-color-text);\n",
              "  box-shadow: 2pt 2pt 4pt #999;\n",
              "  /* unfitted */\n",
              "  background: var(--sklearn-color-unfitted-level-0);\n",
              "  border: .5pt solid var(--sklearn-color-unfitted-level-3);\n",
              "}\n",
              "\n",
              ".sk-estimator-doc-link.fitted span {\n",
              "  /* fitted */\n",
              "  background: var(--sklearn-color-fitted-level-0);\n",
              "  border: var(--sklearn-color-fitted-level-3);\n",
              "}\n",
              "\n",
              ".sk-estimator-doc-link:hover span {\n",
              "  display: block;\n",
              "}\n",
              "\n",
              "/* \"?\"-specific style due to the `<a>` HTML tag */\n",
              "\n",
              "#sk-container-id-1 a.estimator_doc_link {\n",
              "  float: right;\n",
              "  font-size: 1rem;\n",
              "  line-height: 1em;\n",
              "  font-family: monospace;\n",
              "  background-color: var(--sklearn-color-background);\n",
              "  border-radius: 1rem;\n",
              "  height: 1rem;\n",
              "  width: 1rem;\n",
              "  text-decoration: none;\n",
              "  /* unfitted */\n",
              "  color: var(--sklearn-color-unfitted-level-1);\n",
              "  border: var(--sklearn-color-unfitted-level-1) 1pt solid;\n",
              "}\n",
              "\n",
              "#sk-container-id-1 a.estimator_doc_link.fitted {\n",
              "  /* fitted */\n",
              "  border: var(--sklearn-color-fitted-level-1) 1pt solid;\n",
              "  color: var(--sklearn-color-fitted-level-1);\n",
              "}\n",
              "\n",
              "/* On hover */\n",
              "#sk-container-id-1 a.estimator_doc_link:hover {\n",
              "  /* unfitted */\n",
              "  background-color: var(--sklearn-color-unfitted-level-3);\n",
              "  color: var(--sklearn-color-background);\n",
              "  text-decoration: none;\n",
              "}\n",
              "\n",
              "#sk-container-id-1 a.estimator_doc_link.fitted:hover {\n",
              "  /* fitted */\n",
              "  background-color: var(--sklearn-color-fitted-level-3);\n",
              "}\n",
              "</style><div id=\"sk-container-id-1\" class=\"sk-top-container\"><div class=\"sk-text-repr-fallback\"><pre>SVC(kernel=&#x27;linear&#x27;, random_state=123)</pre><b>In a Jupyter environment, please rerun this cell to show the HTML representation or trust the notebook. <br />On GitHub, the HTML representation is unable to render, please try loading this page with nbviewer.org.</b></div><div class=\"sk-container\" hidden><div class=\"sk-item\"><div class=\"sk-estimator fitted sk-toggleable\"><input class=\"sk-toggleable__control sk-hidden--visually\" id=\"sk-estimator-id-1\" type=\"checkbox\" checked><label for=\"sk-estimator-id-1\" class=\"sk-toggleable__label fitted sk-toggleable__label-arrow fitted\">&nbsp;&nbsp;SVC<a class=\"sk-estimator-doc-link fitted\" rel=\"noreferrer\" target=\"_blank\" href=\"https://scikit-learn.org/1.5/modules/generated/sklearn.svm.SVC.html\">?<span>Documentation for SVC</span></a><span class=\"sk-estimator-doc-link fitted\">i<span>Fitted</span></span></label><div class=\"sk-toggleable__content fitted\"><pre>SVC(kernel=&#x27;linear&#x27;, random_state=123)</pre></div> </div></div></div></div>"
            ]
          },
          "metadata": {},
          "execution_count": 5
        }
      ]
    },
    {
      "cell_type": "code",
      "source": [
        "#Use the model to predict the training data\n",
        "y_pred_svm_train = svm_classifier.predict(X_train)\n",
        "\n",
        "#Calculate accuracy for the training data\n",
        "accuracy_svm_train = accuracy_score(y_train,y_pred_svm_train)\n",
        "print(f'Accuracy:{accuracy_svm_train:.4f}')\n",
        "\n",
        "#Compute the confusion matrix for the training data\n",
        "cm_svm_train = confusion_matrix(y_train,y_pred_svm_train)\n",
        "\n",
        "#Print confusion matrix for the training data\n",
        "print(\"ConfusionMatrix(onTrainingData):\")\n",
        "print(cm_svm_train)\n",
        "\n",
        "#Generate classification report for the training data\n",
        "report_svm_train = classification_report(y_train,y_pred_svm_train)\n",
        "print(\"\\nClassificationReport:\")\n",
        "print(report_svm_train)"
      ],
      "metadata": {
        "colab": {
          "base_uri": "https://localhost:8080/"
        },
        "id": "ME_hXSKlUZ0R",
        "outputId": "defcbce2-38e2-4ba1-e6cb-8848e1e76fee"
      },
      "execution_count": null,
      "outputs": [
        {
          "output_type": "stream",
          "name": "stdout",
          "text": [
            "Accuracy:0.9917\n",
            "ConfusionMatrix(onTrainingData):\n",
            "[[37  0  0]\n",
            " [ 0 43  1]\n",
            " [ 0  0 39]]\n",
            "\n",
            "ClassificationReport:\n",
            "              precision    recall  f1-score   support\n",
            "\n",
            "           0       1.00      1.00      1.00        37\n",
            "           1       1.00      0.98      0.99        44\n",
            "           2       0.97      1.00      0.99        39\n",
            "\n",
            "    accuracy                           0.99       120\n",
            "   macro avg       0.99      0.99      0.99       120\n",
            "weighted avg       0.99      0.99      0.99       120\n",
            "\n"
          ]
        }
      ]
    },
    {
      "cell_type": "markdown",
      "source": [
        "##Step2:Predict with testing data and check performances"
      ],
      "metadata": {
        "id": "p03Vr3HNVBjc"
      }
    },
    {
      "cell_type": "code",
      "source": [
        "#Predict on the test set\n",
        "y_pred_svm = svm_classifier.predict(X_test)\n",
        "\n",
        "from sklearn.metrics import accuracy_score,confusion_matrix\n",
        "import matplotlib.pyplot as plt\n",
        "import seaborn as sns\n",
        "\n",
        "#Calculate accuracy\n",
        "accuracy_svm = accuracy_score(y_test,y_pred_svm)\n",
        "print(f'Accuracy(SVMwithlinearkernel):{accuracy_svm:.4f}')\n",
        "\n",
        "#Calculate confusion matrix\n",
        "cm_svm = confusion_matrix(y_test,y_pred_svm)\n",
        "\n",
        "#Plot confusion matrix\n",
        "plt.figure(figsize=(8,6))\n",
        "sns.heatmap(cm_svm,annot=True,fmt='d',cmap='Blues',xticklabels=iris.target_names,\n",
        "            yticklabels=iris.target_names)\n",
        "plt.title('ConfusionMatrix-SVM(LinearKernel)')\n",
        "plt.xlabel('PredictedLabels')\n",
        "plt.ylabel('TrueLabels')\n",
        "plt.show()\n",
        "\n",
        "#Generate classification report\n",
        "report_svm = classification_report(y_test,y_pred_svm)\n",
        "print(\"\\nClassificationReport:\")\n",
        "print(report_svm)"
      ],
      "metadata": {
        "colab": {
          "base_uri": "https://localhost:8080/",
          "height": 785
        },
        "id": "oUHOqWOQVEhI",
        "outputId": "e52d56ed-0282-4759-8acc-f1b6f4cafe22"
      },
      "execution_count": null,
      "outputs": [
        {
          "output_type": "stream",
          "name": "stdout",
          "text": [
            "Accuracy(SVMwithlinearkernel):0.9667\n"
          ]
        },
        {
          "output_type": "display_data",
          "data": {
            "text/plain": [
              "<Figure size 800x600 with 2 Axes>"
            ],
            "image/png": "[encoded data removed]"
          },
          "metadata": {}
        },
        {
          "output_type": "stream",
          "name": "stdout",
          "text": [
            "\n",
            "ClassificationReport:\n",
            "              precision    recall  f1-score   support\n",
            "\n",
            "           0       1.00      1.00      1.00        13\n",
            "           1       1.00      0.83      0.91         6\n",
            "           2       0.92      1.00      0.96        11\n",
            "\n",
            "    accuracy                           0.97        30\n",
            "   macro avg       0.97      0.94      0.96        30\n",
            "weighted avg       0.97      0.97      0.97        30\n",
            "\n"
          ]
        }
      ]
    },
    {
      "cell_type": "markdown",
      "source": [
        "#ANN"
      ],
      "metadata": {
        "id": "qqyDwfe1WDrd"
      }
    },
    {
      "cell_type": "markdown",
      "source": [
        "##Step1:\n",
        "##Fit the model with training data and check performances. For ANN, we label encode the target variables and standardize the features because ANN is sensitive to the scale of the input. We add two hidden layers (with 2 units each) and set the output layer unit to 3 because the target variable, Species has 3 labels."
      ],
      "metadata": {
        "id": "tenJyQzsCTRn"
      }
    },
    {
      "cell_type": "code",
      "source": [
        "import pandas as pd\n",
        "from sklearn.model_selection import train_test_split\n",
        "from sklearn.preprocessing import LabelEncoder,StandardScaler\n",
        "from sklearn.metrics import confusion_matrix,classification_report,accuracy_score\n",
        "import tensorflow as tf\n",
        "from tensorflow.keras.models import Sequential\n",
        "from tensorflow.keras.layers import Dense\n",
        "\n",
        "#Label encode the target variable\n",
        "label_encoder = LabelEncoder()\n",
        "y_train_encoded = label_encoder.fit_transform(y_train)\n",
        "y_test_encoded = label_encoder.transform(y_test)\n",
        "\n",
        "#Standardize the features\n",
        "scaler = StandardScaler()\n",
        "X_train_scaled = scaler.fit_transform(X_train)\n",
        "X_test_scaled = scaler.transform(X_test)\n",
        "\n",
        "#Initialize the ANN\n",
        "model = Sequential()\n",
        "\n",
        "#Add input layer and first hidden layer\n",
        "model.add(Dense(units=2,activation='relu',input_shape=(X_train_scaled.shape[1],)))\n",
        "\n",
        "#Add second hidden layer\n",
        "model.add(Dense(units=2,activation='relu'))\n",
        "\n",
        "#Add output layer\n",
        "model.add(Dense(units=3,activation='softmax'))\n",
        "\n",
        "#Compile the ANN\n",
        "model.compile(optimizer='adam',loss='sparse_categorical_crossentropy',metrics=['accuracy'])\n",
        "\n",
        "#Train the ANN\n",
        "model.fit(X_train_scaled,y_train_encoded,epochs=50,batch_size=10,validation_split=0.2, verbose =0)"
      ],
      "metadata": {
        "id": "32-3iMjbWElr",
        "colab": {
          "base_uri": "https://localhost:8080/"
        },
        "outputId": "52b6098e-b8cc-4a7a-903d-9d5ea9e636a3"
      },
      "execution_count": null,
      "outputs": [
        {
          "output_type": "stream",
          "name": "stderr",
          "text": [
            "/usr/local/lib/python3.10/dist-packages/keras/src/layers/core/dense.py:87: UserWarning: Do not pass an `input_shape`/`input_dim` argument to a layer. When using Sequential models, prefer using an `Input(shape)` object as the first layer in the model instead.\n",
            "  super().__init__(activity_regularizer=activity_regularizer, **kwargs)\n"
          ]
        },
        {
          "output_type": "execute_result",
          "data": {
            "text/plain": [
              "<keras.src.callbacks.history.History at 0x78f8fbe03220>"
            ]
          },
          "metadata": {},
          "execution_count": 9
        }
      ]
    },
    {
      "cell_type": "code",
      "source": [
        "#Make predictions on the train set\n",
        "y_pred_prob_ann_train = model.predict(X_train_scaled)\n",
        "y_pred_ann_train = y_pred_prob_ann_train.argmax(axis=1)\n",
        "\n",
        "#Calculate accuracy for the training data\n",
        "accuracy_ann_train = accuracy_score(y_train,y_pred_ann_train)\n",
        "print(f'Accuracy:{accuracy_ann_train:.4f}')\n",
        "\n",
        "#Compute the confusion matrix for the training data\n",
        "cm_ann_train=confusion_matrix(y_train,y_pred_ann_train)\n",
        "\n",
        "#Print confusion matrix for the training data\n",
        "print(\"ConfusionMatrix(onTrainingData):\")\n",
        "print(cm_ann_train)\n",
        "\n",
        "#Generate classification report for the training data\n",
        "report_ann_train=classification_report(y_train,y_pred_ann_train)\n",
        "print(\"\\nClassificationReport:\")\n",
        "print(report_ann_train)"
      ],
      "metadata": {
        "colab": {
          "base_uri": "https://localhost:8080/"
        },
        "id": "DNaQN7SWBwSE",
        "outputId": "fa13420c-5b0b-4720-8c8e-660f29fcf81e"
      },
      "execution_count": null,
      "outputs": [
        {
          "output_type": "stream",
          "name": "stdout",
          "text": [
            "\u001b[1m4/4\u001b[0m \u001b[32m━━━━━━━━━━━━━━━━━━━━\u001b[0m\u001b[37m\u001b[0m \u001b[1m0s\u001b[0m 136ms/step\n",
            "Accuracy:0.8000\n",
            "ConfusionMatrix(onTrainingData):\n",
            "[[37  0  0]\n",
            " [ 9 22 13]\n",
            " [ 0  2 37]]\n",
            "\n",
            "ClassificationReport:\n",
            "              precision    recall  f1-score   support\n",
            "\n",
            "           0       0.80      1.00      0.89        37\n",
            "           1       0.92      0.50      0.65        44\n",
            "           2       0.74      0.95      0.83        39\n",
            "\n",
            "    accuracy                           0.80       120\n",
            "   macro avg       0.82      0.82      0.79       120\n",
            "weighted avg       0.82      0.80      0.78       120\n",
            "\n"
          ]
        }
      ]
    },
    {
      "cell_type": "markdown",
      "source": [
        "##Step2:\n",
        "##Predict with testing data and check performances"
      ],
      "metadata": {
        "id": "0Mj3fNHOCXAx"
      }
    },
    {
      "cell_type": "code",
      "source": [
        "#Make predictions on the test set\n",
        "y_pred_prob_ann = model.predict(X_test_scaled)\n",
        "y_pred_ann = y_pred_prob_ann.argmax(axis=1)"
      ],
      "metadata": {
        "colab": {
          "base_uri": "https://localhost:8080/"
        },
        "id": "UTsFVzi4CZ_Y",
        "outputId": "8c4ccff6-f4aa-4054-8e08-4cbaa69fbb10"
      },
      "execution_count": null,
      "outputs": [
        {
          "output_type": "stream",
          "name": "stdout",
          "text": [
            "\u001b[1m1/1\u001b[0m \u001b[32m━━━━━━━━━━━━━━━━━━━━\u001b[0m\u001b[37m\u001b[0m \u001b[1m0s\u001b[0m 21ms/step\n"
          ]
        }
      ]
    },
    {
      "cell_type": "code",
      "source": [
        "from sklearn.metrics import confusion_matrix,classification_report\n",
        "import seaborn as sns\n",
        "import matplotlib.pyplot as plt\n",
        "\n",
        "#Calculate accuracy\n",
        "accuracy_ann = accuracy_score(y_test,y_pred_ann)\n",
        "print(f'Accuracy:{accuracy_ann:.4f}')\n",
        "\n",
        "#Create the confusion matrix\n",
        "cm_ann = confusion_matrix(y_test_encoded,y_pred_ann)\n",
        "\n",
        "#Plot confusion matrix\n",
        "plt.figure(figsize=(8,6))\n",
        "sns.heatmap(cm_ann,annot=True,fmt='d',cmap='Blues',\n",
        "xticklabels = label_encoder.classes_, yticklabels=label_encoder.classes_)\n",
        "plt.xlabel('Predicted')\n",
        "plt.ylabel('True')\n",
        "plt.title('ConfusionMatrix')\n",
        "plt.show()\n",
        "\n",
        "#Generate classification report\n",
        "report_ann = classification_report(y_test,y_pred_ann)\n",
        "print(\"\\nClassificationReport:\")\n",
        "print(report_ann)"
      ],
      "metadata": {
        "colab": {
          "base_uri": "https://localhost:8080/",
          "height": 785
        },
        "id": "fWNqex6iChY4",
        "outputId": "10da02c5-7a86-49d6-d258-1e66d0b450a6"
      },
      "execution_count": null,
      "outputs": [
        {
          "output_type": "stream",
          "name": "stdout",
          "text": [
            "Accuracy:0.9333\n"
          ]
        },
        {
          "output_type": "display_data",
          "data": {
            "text/plain": [
              "<Figure size 800x600 with 2 Axes>"
            ],
            "image/png": "[encoded data removed]"
          },
          "metadata": {}
        },
        {
          "output_type": "stream",
          "name": "stdout",
          "text": [
            "\n",
            "ClassificationReport:\n",
            "              precision    recall  f1-score   support\n",
            "\n",
            "           0       0.93      1.00      0.96        13\n",
            "           1       1.00      0.67      0.80         6\n",
            "           2       0.92      1.00      0.96        11\n",
            "\n",
            "    accuracy                           0.93        30\n",
            "   macro avg       0.95      0.89      0.91        30\n",
            "weighted avg       0.94      0.93      0.93        30\n",
            "\n"
          ]
        }
      ]
    },
    {
      "cell_type": "markdown",
      "source": [
        "#Descriptive Discriminant Analysis"
      ],
      "metadata": {
        "id": "sT_NVrg3C-Xy"
      }
    },
    {
      "cell_type": "markdown",
      "source": [
        "##Import WOW_data.csv, and name it to ‘DDA_raw’. Choose variables we want to analyze, and save it as ’DDA’.\n",
        "###(3: ethnic, 25: WA_S_1, 20: WA_S_2, 14: WA_S_3)"
      ],
      "metadata": {
        "id": "_-p6DT92DVUD"
      }
    },
    {
      "cell_type": "code",
      "source": [
        "import pandas as pd\n",
        "#Import the CSV file\n",
        "DDA_raw=pd.read_csv('WOW_data.csv')\n",
        "\n",
        "#Choose variables(columns)and save as DDA\n",
        "columns_to_select=[2,24,19,13]\n",
        "DDA=DDA_raw.iloc[:,columns_to_select]\n",
        "\n",
        "#Display the first few rows of DDA to confirm\n",
        "print(DDA.head())"
      ],
      "metadata": {
        "colab": {
          "base_uri": "https://localhost:8080/"
        },
        "id": "QuCbtdQSDCTa",
        "outputId": "bf0e9489-e7f2-4988-fbdc-5e687c0aa13d"
      },
      "execution_count": null,
      "outputs": [
        {
          "output_type": "stream",
          "name": "stdout",
          "text": [
            "  ethnic  WA_S_1  WA_S_2  WA_S_3\n",
            "0  Human     3.0     3.2     4.2\n",
            "1  Human     3.4     4.9     5.0\n",
            "2  Human     2.5     3.0     4.1\n",
            "3  Human     2.5     2.2     3.1\n",
            "4  Human     2.4     4.1     2.4\n"
          ]
        }
      ]
    },
    {
      "cell_type": "markdown",
      "source": [
        "##Step2:\n",
        "##Check descriptive statistics in each ethnicity."
      ],
      "metadata": {
        "id": "yNirMfkUDaC9"
      }
    },
    {
      "cell_type": "code",
      "source": [
        "import pandas as pd\n",
        "from scipy import stats\n",
        "\n",
        "#Define a custom function to compute descriptive statistics with skewness and kurtosis\n",
        "def custom_agg(group):\n",
        " #Transpose the describe() output for alignment\n",
        " desc = group.describe().T # Transpose so that each variable is a row\n",
        "\n",
        " # Calculate skewness and kurtosis\n",
        " skewness = group.apply(stats.skew).rename(\"skewness\")\n",
        " kurtosis = group.apply(stats.kurtosis).rename(\"kurtosis\")\n",
        "\n",
        " # Concatenate the transposed descriptive stats with skewness and kurtosis\n",
        " return pd.concat([desc, skewness, kurtosis], axis=1)\n",
        "\n",
        "# Assuming 'ethnic' is the column name for ethnicity in your DDA DataFrame\n",
        "# Group the DDA DataFrame by the 'ethnic' column\n",
        "grouped = DDA.groupby(DDA.columns[0]) # Assuming 'ethnic' is the first column\n",
        "\n",
        "#Apply the function to each group\n",
        "descriptive_stats = grouped.apply(custom_agg)\n",
        "\n",
        "#Display the descriptive statistics with skewness and kurtosis\n",
        "print(descriptive_stats)"
      ],
      "metadata": {
        "colab": {
          "base_uri": "https://localhost:8080/"
        },
        "id": "A35euDQBDdE3",
        "outputId": "6c10a6d9-b78c-4210-c743-3839e1863384"
      },
      "execution_count": null,
      "outputs": [
        {
          "output_type": "stream",
          "name": "stdout",
          "text": [
            "               count      mean       std  min    25%   50%    75%  max  \\\n",
            "ethnic                                                                   \n",
            "Human  WA_S_1   87.0  3.480460  0.803168  2.0  2.900  3.40  4.150  5.0   \n",
            "       WA_S_2   87.0  3.381322  0.914707  1.7  2.650  3.40  4.100  5.0   \n",
            "       WA_S_3   87.0  3.228900  0.937802  1.7  2.600  3.00  3.950  5.0   \n",
            "Orc    WA_S_1   42.0  3.783069  0.928913  1.1  3.200  3.95  4.375  5.0   \n",
            "       WA_S_2   42.0  3.695238  0.879565  1.8  3.100  3.70  4.400  5.0   \n",
            "       WA_S_3   42.0  3.895238  0.855100  1.7  3.525  4.00  4.500  5.0   \n",
            "Undead WA_S_1   64.0  3.564063  0.844472  1.2  3.000  3.60  4.200  5.0   \n",
            "       WA_S_2   64.0  3.521875  0.830741  1.7  2.875  3.65  4.050  5.0   \n",
            "       WA_S_3   64.0  3.514062  0.843437  1.5  2.900  3.65  4.100  4.8   \n",
            "\n",
            "               skewness  kurtosis  \n",
            "ethnic                             \n",
            "Human  WA_S_1  0.207667 -0.880167  \n",
            "       WA_S_2 -0.088593 -0.966110  \n",
            "       WA_S_3  0.177462 -0.942984  \n",
            "Orc    WA_S_1 -0.683937  0.218524  \n",
            "       WA_S_2 -0.368907 -0.829939  \n",
            "       WA_S_3 -0.793338  0.060276  \n",
            "Undead WA_S_1 -0.361197 -0.138961  \n",
            "       WA_S_2 -0.165995 -0.837412  \n",
            "       WA_S_3 -0.561642 -0.563865  \n"
          ]
        }
      ]
    },
    {
      "cell_type": "markdown",
      "source": [
        "##Step3:\n",
        "##Using MANOVA to check the mean difference between ethnics."
      ],
      "metadata": {
        "id": "ADabm6qzHL72"
      }
    },
    {
      "cell_type": "code",
      "source": [
        "%pip install pingouin\n",
        "import pingouin as pg\n",
        "from statsmodels.multivariate.manova import MANOVA\n",
        "\n",
        "#Perform Box'sM test\n",
        "box_m_test = pg.box_m(DDA,dvs=['WA_S_1','WA_S_2','WA_S_3'],group='ethnic')\n",
        "print(\"Box's M Test: \\n\",box_m_test, \"\\n\")\n",
        "\n",
        "#Perform MANOVA\n",
        "manova=MANOVA.from_formula('WA_S_1+WA_S_2+WA_S_3~ethnic',\n",
        "data=DDA)\n",
        "manova_results=manova.mv_test()\n",
        "\n",
        "#DisplayMANOVAresults\n",
        "print(manova_results)"
      ],
      "metadata": {
        "colab": {
          "base_uri": "https://localhost:8080/"
        },
        "id": "iDmA80fqHPF_",
        "outputId": "bf2b7eb3-453a-40fe-c15e-145be9aa581b"
      },
      "execution_count": null,
      "outputs": [
        {
          "output_type": "stream",
          "name": "stdout",
          "text": [
            "Collecting pingouin\n",
            "  Downloading pingouin-0.5.5-py3-none-any.whl.metadata (19 kB)\n",
            "Requirement already satisfied: matplotlib in /usr/local/lib/python3.10/dist-packages (from pingouin) (3.8.0)\n",
            "Requirement already satisfied: numpy in /usr/local/lib/python3.10/dist-packages (from pingouin) (1.26.4)\n",
            "Requirement already satisfied: pandas>=1.5 in /usr/local/lib/python3.10/dist-packages (from pingouin) (2.2.2)\n",
            "Collecting pandas-flavor (from pingouin)\n",
            "  Downloading pandas_flavor-0.6.0-py3-none-any.whl.metadata (6.3 kB)\n",
            "Requirement already satisfied: scikit-learn>=1.2 in /usr/local/lib/python3.10/dist-packages (from pingouin) (1.5.2)\n",
            "Requirement already satisfied: scipy in /usr/local/lib/python3.10/dist-packages (from pingouin) (1.13.1)\n",
            "Requirement already satisfied: seaborn in /usr/local/lib/python3.10/dist-packages (from pingouin) (0.13.2)\n",
            "Requirement already satisfied: statsmodels in /usr/local/lib/python3.10/dist-packages (from pingouin) (0.14.4)\n",
            "Requirement already satisfied: tabulate in /usr/local/lib/python3.10/dist-packages (from pingouin) (0.9.0)\n",
            "Requirement already satisfied: python-dateutil>=2.8.2 in /usr/local/lib/python3.10/dist-packages (from pandas>=1.5->pingouin) (2.8.2)\n",
            "Requirement already satisfied: pytz>=2020.1 in /usr/local/lib/python3.10/dist-packages (from pandas>=1.5->pingouin) (2024.2)\n",
            "Requirement already satisfied: tzdata>=2022.7 in /usr/local/lib/python3.10/dist-packages (from pandas>=1.5->pingouin) (2024.2)\n",
            "Requirement already satisfied: joblib>=1.2.0 in /usr/local/lib/python3.10/dist-packages (from scikit-learn>=1.2->pingouin) (1.4.2)\n",
            "Requirement already satisfied: threadpoolctl>=3.1.0 in /usr/local/lib/python3.10/dist-packages (from scikit-learn>=1.2->pingouin) (3.5.0)\n",
            "Requirement already satisfied: contourpy>=1.0.1 in /usr/local/lib/python3.10/dist-packages (from matplotlib->pingouin) (1.3.1)\n",
            "Requirement already satisfied: cycler>=0.10 in /usr/local/lib/python3.10/dist-packages (from matplotlib->pingouin) (0.12.1)\n",
            "Requirement already satisfied: fonttools>=4.22.0 in /usr/local/lib/python3.10/dist-packages (from matplotlib->pingouin) (4.55.0)\n",
            "Requirement already satisfied: kiwisolver>=1.0.1 in /usr/local/lib/python3.10/dist-packages (from matplotlib->pingouin) (1.4.7)\n",
            "Requirement already satisfied: packaging>=20.0 in /usr/local/lib/python3.10/dist-packages (from matplotlib->pingouin) (24.2)\n",
            "Requirement already satisfied: pillow>=6.2.0 in /usr/local/lib/python3.10/dist-packages (from matplotlib->pingouin) (11.0.0)\n",
            "Requirement already satisfied: pyparsing>=2.3.1 in /usr/local/lib/python3.10/dist-packages (from matplotlib->pingouin) (3.2.0)\n",
            "Requirement already satisfied: xarray in /usr/local/lib/python3.10/dist-packages (from pandas-flavor->pingouin) (2024.10.0)\n",
            "Requirement already satisfied: patsy>=0.5.6 in /usr/local/lib/python3.10/dist-packages (from statsmodels->pingouin) (1.0.1)\n",
            "Requirement already satisfied: six>=1.5 in /usr/local/lib/python3.10/dist-packages (from python-dateutil>=2.8.2->pandas>=1.5->pingouin) (1.16.0)\n",
            "Downloading pingouin-0.5.5-py3-none-any.whl (204 kB)\n",
            "\u001b[2K   \u001b[90m━━━━━━━━━━━━━━━━━━━━━━━━━━━━━━━━━━━━━━━━\u001b[0m \u001b[32m204.4/204.4 kB\u001b[0m \u001b[31m5.3 MB/s\u001b[0m eta \u001b[36m0:00:00\u001b[0m\n",
            "\u001b[?25hDownloading pandas_flavor-0.6.0-py3-none-any.whl (7.2 kB)\n",
            "Installing collected packages: pandas-flavor, pingouin\n",
            "Successfully installed pandas-flavor-0.6.0 pingouin-0.5.5\n",
            "Box's M Test: \n",
            "          Chi2    df      pval  equal_cov\n",
            "box  5.833185  12.0  0.924256       True \n",
            "\n",
            "                   Multivariate linear model\n",
            "===============================================================\n",
            "                                                               \n",
            "---------------------------------------------------------------\n",
            "       Intercept         Value  Num DF  Den DF  F Value  Pr > F\n",
            "---------------------------------------------------------------\n",
            "          Wilks' lambda  0.0788 3.0000 188.0000 732.7084 0.0000\n",
            "         Pillai's trace  0.9212 3.0000 188.0000 732.7084 0.0000\n",
            " Hotelling-Lawley trace 11.6922 3.0000 188.0000 732.7084 0.0000\n",
            "    Roy's greatest root 11.6922 3.0000 188.0000 732.7084 0.0000\n",
            "---------------------------------------------------------------\n",
            "                                                               \n",
            "---------------------------------------------------------------\n",
            "           ethnic         Value  Num DF  Den DF  F Value Pr > F\n",
            "---------------------------------------------------------------\n",
            "            Wilks' lambda 0.9177 6.0000 376.0000  2.7488 0.0126\n",
            "           Pillai's trace 0.0824 6.0000 378.0000  2.7055 0.0139\n",
            "   Hotelling-Lawley trace 0.0896 6.0000 248.8968  2.7991 0.0118\n",
            "      Roy's greatest root 0.0886 3.0000 189.0000  5.5835 0.0011\n",
            "===============================================================\n",
            "\n"
          ]
        }
      ]
    },
    {
      "cell_type": "markdown",
      "source": [
        "##Step4:\n",
        "##Perform linear discriminant analysis with LinearDiscriminantAnalysis ()."
      ],
      "metadata": {
        "id": "_0Jy41FoHgCx"
      }
    },
    {
      "cell_type": "code",
      "source": [
        "from sklearn.discriminant_analysis import LinearDiscriminantAnalysis as LDA\n",
        "X=DDA[['WA_S_1','WA_S_2','WA_S_3']]\n",
        "y=DDA_raw.loc[:,\"ethnic\"]\n",
        "\n",
        "#Initialize and fit the LDAmodel\n",
        "lda_model=LDA()\n",
        "lda_model.fit(X,y)\n",
        "\n",
        "#Get the canonical variables\n",
        "# Use lda_model instead of lda\n",
        "canonical_vars=lda_model.transform(X)"
      ],
      "metadata": {
        "id": "LQGx_P6lHi-k"
      },
      "execution_count": null,
      "outputs": []
    },
    {
      "cell_type": "markdown",
      "source": [
        "##Step5:\n",
        "##Examine canonical scores, coefficient and explained variance ratio."
      ],
      "metadata": {
        "id": "PCQsnz8jH-a9"
      }
    },
    {
      "cell_type": "code",
      "source": [
        "#Display the canonical variables\n",
        "print(\"CanonicalScores:\")\n",
        "print(canonical_vars[:6],\"...\",\"\\n\")\n",
        "\n",
        "#Inspect the intercept,coefficients and explained variance ratio\n",
        "print(\"Intercept of 3 canonical functions:\")\n",
        "print(lda_model.intercept_,\"\\n\")\n",
        "print(\"Coefficients of 3 canonical functions:\")\n",
        "print(lda_model.coef_,\"\\n\")\n",
        "print(\"Explained Variance Ratio:\")\n",
        "print(lda_model.explained_variance_ratio_,\"\\n\")"
      ],
      "metadata": {
        "colab": {
          "base_uri": "https://localhost:8080/"
        },
        "id": "ftcxROZnH_7U",
        "outputId": "ff730e3a-d0ba-4520-80fd-8a452783458a"
      },
      "execution_count": null,
      "outputs": [
        {
          "output_type": "stream",
          "name": "stdout",
          "text": [
            "CanonicalScores:\n",
            "[[ 0.62297169  0.71747919]\n",
            " [ 1.512269    1.6269996 ]\n",
            " [ 0.39295952  1.20657812]\n",
            " [-0.62797961  0.37943369]\n",
            " [-1.44497886  1.73207205]\n",
            " [ 1.52138964 -0.7268015 ]] ... \n",
            "\n",
            "Intercept of 3 canonical functions:\n",
            "[ 0.35288274 -3.89163674 -1.24649227] \n",
            "\n",
            "Coefficients of 3 canonical functions:\n",
            "[[-0.04699369 -0.00519622 -0.28848282]\n",
            " [ 0.16590171 -0.03501837  0.51122494]\n",
            " [-0.04499094  0.03004441  0.05666497]] \n",
            "\n",
            "Explained Variance Ratio:\n",
            "[0.9895103 0.0104897] \n",
            "\n"
          ]
        }
      ]
    },
    {
      "cell_type": "markdown",
      "source": [
        "##Step6:\n",
        "##Predict Ethnic with the LDA model we fit."
      ],
      "metadata": {
        "id": "h6p-sXkdISjP"
      }
    },
    {
      "cell_type": "code",
      "source": [
        "import matplotlib.pyplot as plt\n",
        "import seaborn as sns\n",
        "\n",
        "#Make predictions\n",
        "lda_values=lda_model.predict(X)\n",
        "lda_proba=lda_model.predict_proba(X)\n",
        "\n",
        "#Create a DataFrame to store the predictions\n",
        "lda_results=pd.DataFrame({\n",
        "    'Predicted_Class': lda_values,\n",
        "    'Predicted_Probability': [prob.round(3) for prob in lda_proba] # Probabilities for each class\n",
        "    })\n",
        "\n",
        "#Add the predictions to the original DataFrame\n",
        "DDA_with_predictions=DDA.copy()\n",
        "DDA_with_predictions=pd.concat([DDA_with_predictions,lda_results],axis=1)\n",
        "\n",
        "#Displaythefirstfewrows\n",
        "print(\"\\nFirstfewrowsofpredictions:\")\n",
        "print(DDA_with_predictions.head())"
      ],
      "metadata": {
        "colab": {
          "base_uri": "https://localhost:8080/"
        },
        "id": "LRD2cRItIXHT",
        "outputId": "9db45a0d-e770-44fd-e7a9-2ade76f84830"
      },
      "execution_count": null,
      "outputs": [
        {
          "output_type": "stream",
          "name": "stdout",
          "text": [
            "\n",
            "Firstfewrowsofpredictions:\n",
            "  ethnic  WA_S_1  WA_S_2  WA_S_3 Predicted_Class  Predicted_Probability\n",
            "0  Human     3.0     3.2     4.2           Human  [0.373, 0.265, 0.362]\n",
            "1  Human     3.4     4.9     5.0             Orc  [0.267, 0.371, 0.362]\n",
            "2  Human     2.5     3.0     4.1           Human  [0.397, 0.235, 0.368]\n",
            "3  Human     2.5     2.2     3.1           Human  [0.523, 0.143, 0.334]\n",
            "4  Human     2.4     4.1     2.4           Human  [0.595, 0.086, 0.319]\n"
          ]
        }
      ]
    },
    {
      "cell_type": "markdown",
      "source": [
        "##Step7:\n",
        "##Check performances."
      ],
      "metadata": {
        "id": "hgqhGgf_Iu6l"
      }
    },
    {
      "cell_type": "code",
      "source": [
        "from sklearn.metrics import confusion_matrix,accuracy_score\n",
        "#Compute confusion matrix\n",
        "conf_matrix=confusion_matrix(y,lda_values,labels=lda_model.classes_)\n",
        "\n",
        "#Compute accuracy rate\n",
        "accuracy=accuracy_score(y,lda_values)\n",
        "\n",
        "#Plot confusion matrix\n",
        "plt.figure(figsize=(8,6))\n",
        "sns.heatmap(conf_matrix,annot=True,fmt='d',cmap='Blues',\n",
        "xticklabels=lda_model.classes_, yticklabels=lda_model.classes_)\n",
        "plt.xlabel('Predicted')\n",
        "plt.ylabel('True')\n",
        "plt.title('ConfusionMatrix')\n",
        "plt.show()\n",
        "print(\"\\nAccuracyRate:\")\n",
        "print(accuracy)\n",
        "\n",
        "#Generate classification report\n",
        "report_ann=classification_report(y,lda_values)\n",
        "print(\"\\nClassificationReport:\")\n",
        "print(report_ann)"
      ],
      "metadata": {
        "colab": {
          "base_uri": "https://localhost:8080/",
          "height": 819
        },
        "id": "Rys_yKBgI0Hx",
        "outputId": "ba9dd87e-870e-4e71-86dd-df50bd7e7297"
      },
      "execution_count": null,
      "outputs": [
        {
          "output_type": "display_data",
          "data": {
            "text/plain": [
              "<Figure size 800x600 with 2 Axes>"
            ],
            "image/png": "[encoded data removed]"
          },
          "metadata": {}
        },
        {
          "output_type": "stream",
          "name": "stdout",
          "text": [
            "\n",
            "AccuracyRate:\n",
            "0.46113989637305697\n",
            "\n",
            "ClassificationReport:\n",
            "              precision    recall  f1-score   support\n",
            "\n",
            "       Human       0.49      0.83      0.61        87\n",
            "         Orc       0.42      0.33      0.37        42\n",
            "      Undead       0.25      0.05      0.08        64\n",
            "\n",
            "    accuracy                           0.46       193\n",
            "   macro avg       0.39      0.40      0.36       193\n",
            "weighted avg       0.39      0.46      0.38       193\n",
            "\n"
          ]
        }
      ]
    },
    {
      "cell_type": "markdown",
      "source": [
        "##Step8:\n",
        "##Draw Score Plot"
      ],
      "metadata": {
        "id": "KzFdUP9KJGtT"
      }
    },
    {
      "cell_type": "code",
      "source": [
        "import matplotlib.pyplot as plt\n",
        "import seaborn as sns\n",
        "\n",
        "#Convert the canonical variables to a DataFrame\n",
        "canonical_df=pd.DataFrame(canonical_vars,columns=['DF1','DF2'])\n",
        "canonical_df['Group'] = y.values # Add the group labels to the DataFrame\n",
        "\n",
        "#Plotting\n",
        "plt.figure(figsize=(10,6))\n",
        "sns.scatterplot(data=canonical_df,x='DF1',y='DF2',hue='Group',s=100,edgecolor=\"k\")\n",
        "\n",
        "#Add plot details\n",
        "plt.title('Canonical Score Plot')\n",
        "plt.xlabel('DiscriminantFunction1(DF1)')\n",
        "plt.ylabel('DiscriminantFunction2(DF2)')\n",
        "plt.legend(title='Group')\n",
        "plt.grid(True)\n",
        "plt.show()"
      ],
      "metadata": {
        "colab": {
          "base_uri": "https://localhost:8080/",
          "height": 564
        },
        "id": "yiamDykxJJYg",
        "outputId": "f4a8742e-f276-4a10-c926-28f71c3487e5"
      },
      "execution_count": null,
      "outputs": [
        {
          "output_type": "display_data",
          "data": {
            "text/plain": [
              "<Figure size 1000x600 with 1 Axes>"
            ],
            "image/png": "[encoded data removed]"
          },
          "metadata": {}
        }
      ]
    }
  ]
}